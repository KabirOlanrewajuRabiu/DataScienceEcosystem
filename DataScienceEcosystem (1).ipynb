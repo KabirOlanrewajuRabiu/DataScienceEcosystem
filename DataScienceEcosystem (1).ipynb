{
  "nbformat": 4,
  "nbformat_minor": 0,
  "metadata": {
    "colab": {
      "provenance": []
    },
    "kernelspec": {
      "name": "python3",
      "display_name": "Python 3"
    },
    "language_info": {
      "name": "python"
    }
  },
  "cells": [
    {
      "cell_type": "markdown",
      "source": [
        "## Data Science Tools and Ecosystem"
      ],
      "metadata": {
        "id": "PRpDu1QbdDta"
      }
    },
    {
      "cell_type": "markdown",
      "source": [
        "##### The basic tools of Data Science and the Ecosystem are summarised in this notebook."
      ],
      "metadata": {
        "id": "VfHwWhmjeIVf"
      }
    },
    {
      "cell_type": "markdown",
      "source": [
        "**Objectives:**  \n",
        "\n",
        "- Some popular Data Science tools.\n",
        "- Some popular Data Science languages.\n",
        "- Data Science libraries.\n",
        "- Popular IDEs used in Data Science."
      ],
      "metadata": {
        "id": "OVflJz-ofuAQ"
      }
    },
    {
      "cell_type": "markdown",
      "source": [
        "### Some of the popular languages used in Data Science are:\n",
        "\n",
        "1. Python\n",
        "2. R and R Studio\n",
        "3. SQL\n",
        "4. Jupyter notebook etc."
      ],
      "metadata": {
        "id": "bU0TUcWqYivy"
      }
    },
    {
      "cell_type": "markdown",
      "source": [
        "### Some of the popular libraries used in Data Science are:\n",
        "1. Pandas\n",
        "2. NumPy\n",
        "3. Matplotlib\n",
        "4. Seaborne etc."
      ],
      "metadata": {
        "id": "ZxfjHS3paPfo"
      }
    },
    {
      "cell_type": "markdown",
      "source": [
        "### Open source Data Science IDEs\n",
        "\n",
        "|Data Science Tools |\n",
        "| -------------|\n",
        "| VS Code |\n",
        "| Jupyter Notebook |\n",
        "| PyCham |"
      ],
      "metadata": {
        "id": "LTpXF-0EbeS0"
      }
    },
    {
      "cell_type": "markdown",
      "source": [
        "### Below are a few examples of evaluating arithmetic expressions in Python\n",
        "\n",
        "2 + 3 = 5\n",
        "(2*3) / (1+2) = 2"
      ],
      "metadata": {
        "id": "5tCwpREFdD1b"
      }
    },
    {
      "cell_type": "code",
      "source": [
        "# This a simple arithmetic expression to mutiply then add integers\n",
        "\n",
        "(3*4)+5"
      ],
      "metadata": {
        "colab": {
          "base_uri": "https://localhost:8080/"
        },
        "id": "RQazi5DJdxOg",
        "outputId": "e275383f-7ff8-4fd6-e0bb-13ad0d7ba0de"
      },
      "execution_count": 1,
      "outputs": [
        {
          "output_type": "execute_result",
          "data": {
            "text/plain": [
              "17"
            ]
          },
          "metadata": {},
          "execution_count": 1
        }
      ]
    },
    {
      "cell_type": "code",
      "source": [
        "# This will convert 200 minutes to hours by diving by 60\n",
        "\n",
        "min_to_hour = 200 / 60\n",
        "min_to_hour"
      ],
      "metadata": {
        "colab": {
          "base_uri": "https://localhost:8080/"
        },
        "id": "9HDK83ZqeXxm",
        "outputId": "4fccd24a-9d78-40d1-e2f8-f724b1dcd065"
      },
      "execution_count": 4,
      "outputs": [
        {
          "output_type": "execute_result",
          "data": {
            "text/plain": [
              "3.3333333333333335"
            ]
          },
          "metadata": {},
          "execution_count": 4
        }
      ]
    },
    {
      "cell_type": "markdown",
      "source": [
        "## Author\n",
        "\n",
        "Kabir Rabiu"
      ],
      "metadata": {
        "id": "Jc4VHiR5hi7d"
      }
    }
  ]
}